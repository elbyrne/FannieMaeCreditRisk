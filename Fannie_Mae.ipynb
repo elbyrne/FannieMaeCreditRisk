{
 "cells": [
  {
   "cell_type": "markdown",
   "metadata": {},
   "source": [
    "# Fannie Mae credit risk analysis - using distributed computing (Spark/PySpark on AWS's S3 server)"
   ]
  },
  {
   "cell_type": "markdown",
   "metadata": {},
   "source": [
    "## Set up Spark/PySpark environment"
   ]
  },
  {
   "cell_type": "code",
   "execution_count": 3,
   "metadata": {
    "collapsed": false
   },
   "outputs": [
    {
     "name": "stdout",
     "output_type": "stream",
     "text": [
      "sys.version_info(major=3, minor=6, micro=0, releaselevel='final', serial=0)\n"
     ]
    },
    {
     "data": {
      "text/plain": [
       "'/Users/Emma/Desktop'"
      ]
     },
     "execution_count": 3,
     "metadata": {},
     "output_type": "execute_result"
    }
   ],
   "source": [
    "# run this when in JupyterHub\n",
    "\n",
    "import os, sys\n",
    "print(sys.version_info)\n",
    "# make sure pyspark tells workers to use python3 not 2 if both are installed\n",
    "os.environ['PYSPARK_PYTHON'] = '/usr/bin/python3'\n",
    "os.environ['PYSPARK_DRIVER_PYTHON'] = '/usr/bin/python3'\n",
    "os.getcwd()"
   ]
  },
  {
   "cell_type": "code",
   "execution_count": 4,
   "metadata": {
    "collapsed": true
   },
   "outputs": [],
   "source": [
    "#create Spark context and import libraries (including time)\n",
    "\n",
    "from pyspark import SparkContext\n",
    "sc = SparkContext.getOrCreate()\n",
    "import pyspark.sql.functions as F\n",
    "from pyspark.sql.types import StructType, StructField, StringType, IntegerType, DoubleType, DateType, TimestampType\n",
    "from pyspark.sql import SparkSession\n",
    "import pandas as pd\n",
    "sqlContext = SparkSession.builder.getOrCreate()\n",
    "\n",
    "import matplotlib.pyplot as plt\n",
    "%matplotlib inline\n",
    "\n",
    "\n",
    "import time\n"
   ]
  },
  {
   "cell_type": "markdown",
   "metadata": {},
   "source": [
    "## Load Fannie Mae data"
   ]
  },
  {
   "cell_type": "code",
   "execution_count": 5,
   "metadata": {
    "collapsed": true
   },
   "outputs": [],
   "source": [
    "#define the data schema for the datafiles\n",
    "\n",
    "acquisition_schema = StructType([\n",
    "    StructField(\"loan_identifier\", StringType(), False),\n",
    "    StructField(\"channel\", StringType(), True),\n",
    "    StructField(\"seller_name\", StringType(), True),\n",
    "    StructField(\"original_interest_rate\", DoubleType(), True),\n",
    "    StructField(\"original_unpaid_principal_balance\", DoubleType(), True),\n",
    "    StructField(\"original_loan_term\", IntegerType(), True),\n",
    "    StructField(\"origination_date\", DateType(), True),\n",
    "    StructField(\"first_payment_date\", DateType(), True),\n",
    "    StructField(\"original_ltv\", DoubleType(), True),\n",
    "    StructField(\"original_cltv\", DoubleType(), True),\n",
    "    StructField(\"number_of_borrowers\", IntegerType(), True),\n",
    "    StructField(\"dti\", DoubleType(), True),\n",
    "    StructField(\"borrower_credit_score\", IntegerType(), True),\n",
    "    StructField(\"first_time_homebuyer\", StringType(), True),\n",
    "    StructField(\"loan_purpose\", StringType(), True),\n",
    "    StructField(\"property_type\", StringType(), True),\n",
    "    StructField(\"number_of_units\", StringType(), True),\n",
    "    StructField(\"occupancy_status\", StringType(), True),\n",
    "    StructField(\"property_state\", StringType(), True),\n",
    "    StructField(\"zip_code\", StringType(), True),\n",
    "    StructField(\"mortgage_insurance_pct\", DoubleType(), True),\n",
    "    StructField(\"product_type\", StringType(), True),\n",
    "    StructField(\"coborrower_credit_score\", IntegerType(), True)\n",
    "])\n",
    "\n",
    "performance_schema = StructType([\n",
    "    StructField(\"loan_identifier\", StringType(), False),\n",
    "    StructField(\"monthly_reporting_period\", StringType(), True),\n",
    "    StructField(\"servicer_name\", StringType(), True),\n",
    "    StructField(\"current_interest_rate\", DoubleType(), True),\n",
    "    StructField(\"current_actual_unpaid_principal_balance\", DoubleType(), True),\n",
    "    StructField(\"loan_age\", IntegerType(), True),\n",
    "    StructField(\"remaining_months_to_legal_maturity\", IntegerType(), True),\n",
    "    StructField(\"adjusted_remaining_months_to_matruity\", IntegerType(), True),\n",
    "    StructField(\"maturity_date\", StringType(), True),\n",
    "    StructField(\"metropolitan_statistical_area\", StringType(), True),\n",
    "    StructField(\"current_loan_delinquency_status\", StringType(), True),\n",
    "    StructField(\"modification_flag\", StringType(), True),\n",
    "    StructField(\"zero_balance_code\", StringType(), True),\n",
    "    StructField(\"zero_balance_effective_date\", StringType(), True),\n",
    "    StructField(\"last_paid_installment_date\", StringType(), True),\n",
    "    StructField(\"foreclosure_date\", StringType(), True),\n",
    "    StructField(\"disposition_date\", StringType(), True),\n",
    "    StructField(\"foreclosure_costs\", DoubleType(), True),\n",
    "    StructField(\"property_preservation_and_repair_costs\", DoubleType(), True),\n",
    "    StructField(\"asset_recovery_costs\", DoubleType(), True),\n",
    "    StructField(\"miscellaneous_holding_expenses_and_credits\", DoubleType(), True),\n",
    "    StructField(\"associated_taxes_for_holding_property\", DoubleType(), True),\n",
    "    StructField(\"net_sale_proceeds\", DoubleType(), True),\n",
    "    StructField(\"credit_enhancement_proceeds\", DoubleType(), True),\n",
    "    StructField(\"repurchase_make_whole_proceeds\", DoubleType(), True),\n",
    "    StructField(\"other_foreclosure_proceeds\", DoubleType(), True),\n",
    "    StructField(\"non_interest_bearing_upb\", DoubleType(), True),\n",
    "    StructField(\"principal_forgiveness_upb\", DoubleType(), True)\n",
    "])"
   ]
  },
  {
   "cell_type": "code",
   "execution_count": 6,
   "metadata": {
    "collapsed": false
   },
   "outputs": [
    {
     "ename": "Py4JJavaError",
     "evalue": "An error occurred while calling o26.load.\n: java.io.IOException: No FileSystem for scheme: s3n\n\tat org.apache.hadoop.fs.FileSystem.getFileSystemClass(FileSystem.java:2660)\n\tat org.apache.hadoop.fs.FileSystem.createFileSystem(FileSystem.java:2667)\n\tat org.apache.hadoop.fs.FileSystem.access$200(FileSystem.java:94)\n\tat org.apache.hadoop.fs.FileSystem$Cache.getInternal(FileSystem.java:2703)\n\tat org.apache.hadoop.fs.FileSystem$Cache.get(FileSystem.java:2685)\n\tat org.apache.hadoop.fs.FileSystem.get(FileSystem.java:373)\n\tat org.apache.hadoop.fs.Path.getFileSystem(Path.java:295)\n\tat org.apache.spark.sql.execution.datasources.DataSource$$anonfun$14.apply(DataSource.scala:372)\n\tat org.apache.spark.sql.execution.datasources.DataSource$$anonfun$14.apply(DataSource.scala:370)\n\tat scala.collection.TraversableLike$$anonfun$flatMap$1.apply(TraversableLike.scala:241)\n\tat scala.collection.TraversableLike$$anonfun$flatMap$1.apply(TraversableLike.scala:241)\n\tat scala.collection.immutable.List.foreach(List.scala:381)\n\tat scala.collection.TraversableLike$class.flatMap(TraversableLike.scala:241)\n\tat scala.collection.immutable.List.flatMap(List.scala:344)\n\tat org.apache.spark.sql.execution.datasources.DataSource.resolveRelation(DataSource.scala:370)\n\tat org.apache.spark.sql.DataFrameReader.load(DataFrameReader.scala:152)\n\tat org.apache.spark.sql.DataFrameReader.load(DataFrameReader.scala:135)\n\tat sun.reflect.NativeMethodAccessorImpl.invoke0(Native Method)\n\tat sun.reflect.NativeMethodAccessorImpl.invoke(NativeMethodAccessorImpl.java:62)\n\tat sun.reflect.DelegatingMethodAccessorImpl.invoke(DelegatingMethodAccessorImpl.java:43)\n\tat java.lang.reflect.Method.invoke(Method.java:498)\n\tat py4j.reflection.MethodInvoker.invoke(MethodInvoker.java:244)\n\tat py4j.reflection.ReflectionEngine.invoke(ReflectionEngine.java:357)\n\tat py4j.Gateway.invoke(Gateway.java:280)\n\tat py4j.commands.AbstractCommand.invokeMethod(AbstractCommand.java:132)\n\tat py4j.commands.CallCommand.execute(CallCommand.java:79)\n\tat py4j.GatewayConnection.run(GatewayConnection.java:214)\n\tat java.lang.Thread.run(Thread.java:745)\n",
     "output_type": "error",
     "traceback": [
      "\u001b[0;31m---------------------------------------------------------------------------\u001b[0m",
      "\u001b[0;31mPy4JJavaError\u001b[0m                             Traceback (most recent call last)",
      "\u001b[0;32m<ipython-input-6-2713b25279a1>\u001b[0m in \u001b[0;36m<module>\u001b[0;34m()\u001b[0m\n\u001b[1;32m      6\u001b[0m \u001b[0mdatafile2\u001b[0m\u001b[0;34m=\u001b[0m\u001b[0;34m\"s3n://10x-ju-spark-test2/Dataset/Performance*.txt\"\u001b[0m\u001b[0;34m\u001b[0m\u001b[0m\n\u001b[1;32m      7\u001b[0m \u001b[0;34m\u001b[0m\u001b[0m\n\u001b[0;32m----> 8\u001b[0;31m \u001b[0macqu\u001b[0m\u001b[0;34m=\u001b[0m\u001b[0msqlContext\u001b[0m\u001b[0;34m.\u001b[0m\u001b[0mread\u001b[0m\u001b[0;34m.\u001b[0m\u001b[0mformat\u001b[0m\u001b[0;34m(\u001b[0m\u001b[0;34m'com.databricks.spark.csv'\u001b[0m\u001b[0;34m)\u001b[0m\u001b[0;34m.\u001b[0m\u001b[0moptions\u001b[0m\u001b[0;34m(\u001b[0m\u001b[0mdelimiter\u001b[0m\u001b[0;34m=\u001b[0m\u001b[0;34m\"|\"\u001b[0m\u001b[0;34m)\u001b[0m\u001b[0;34m.\u001b[0m\u001b[0moption\u001b[0m\u001b[0;34m(\u001b[0m\u001b[0;34m'dateFormat'\u001b[0m\u001b[0;34m,\u001b[0m \u001b[0;34m'MM/yyyy'\u001b[0m\u001b[0;34m)\u001b[0m \u001b[0;34m.\u001b[0m\u001b[0mschema\u001b[0m\u001b[0;34m(\u001b[0m\u001b[0macquisition_schema\u001b[0m\u001b[0;34m)\u001b[0m \u001b[0;34m.\u001b[0m\u001b[0mload\u001b[0m\u001b[0;34m(\u001b[0m\u001b[0mdatafile1\u001b[0m\u001b[0;34m)\u001b[0m\u001b[0;34m\u001b[0m\u001b[0m\n\u001b[0m\u001b[1;32m      9\u001b[0m \u001b[0;34m\u001b[0m\u001b[0m\n\u001b[1;32m     10\u001b[0m \u001b[0mperf\u001b[0m\u001b[0;34m=\u001b[0m\u001b[0msqlContext\u001b[0m\u001b[0;34m.\u001b[0m\u001b[0mread\u001b[0m\u001b[0;34m.\u001b[0m\u001b[0mformat\u001b[0m\u001b[0;34m(\u001b[0m\u001b[0;34m'com.databricks.spark.csv'\u001b[0m\u001b[0;34m)\u001b[0m\u001b[0;34m.\u001b[0m\u001b[0moptions\u001b[0m\u001b[0;34m(\u001b[0m\u001b[0mdelimiter\u001b[0m\u001b[0;34m=\u001b[0m\u001b[0;34m\"|\"\u001b[0m\u001b[0;34m)\u001b[0m\u001b[0;34m.\u001b[0m\u001b[0moption\u001b[0m\u001b[0;34m(\u001b[0m\u001b[0;34m'dateFormat'\u001b[0m\u001b[0;34m,\u001b[0m \u001b[0;34m'MM/yyyy'\u001b[0m\u001b[0;34m)\u001b[0m \u001b[0;34m.\u001b[0m\u001b[0mschema\u001b[0m\u001b[0;34m(\u001b[0m\u001b[0mperformance_schema\u001b[0m\u001b[0;34m)\u001b[0m \u001b[0;34m.\u001b[0m\u001b[0mload\u001b[0m\u001b[0;34m(\u001b[0m\u001b[0mdatafile2\u001b[0m\u001b[0;34m)\u001b[0m\u001b[0;34m\u001b[0m\u001b[0m\n",
      "\u001b[0;32m/Users/Emma/anaconda/lib/python3.6/site-packages/pyspark/sql/readwriter.py\u001b[0m in \u001b[0;36mload\u001b[0;34m(self, path, format, schema, **options)\u001b[0m\n\u001b[1;32m    147\u001b[0m         \u001b[0mself\u001b[0m\u001b[0;34m.\u001b[0m\u001b[0moptions\u001b[0m\u001b[0;34m(\u001b[0m\u001b[0;34m**\u001b[0m\u001b[0moptions\u001b[0m\u001b[0;34m)\u001b[0m\u001b[0;34m\u001b[0m\u001b[0m\n\u001b[1;32m    148\u001b[0m         \u001b[0;32mif\u001b[0m \u001b[0misinstance\u001b[0m\u001b[0;34m(\u001b[0m\u001b[0mpath\u001b[0m\u001b[0;34m,\u001b[0m \u001b[0mbasestring\u001b[0m\u001b[0;34m)\u001b[0m\u001b[0;34m:\u001b[0m\u001b[0;34m\u001b[0m\u001b[0m\n\u001b[0;32m--> 149\u001b[0;31m             \u001b[0;32mreturn\u001b[0m \u001b[0mself\u001b[0m\u001b[0;34m.\u001b[0m\u001b[0m_df\u001b[0m\u001b[0;34m(\u001b[0m\u001b[0mself\u001b[0m\u001b[0;34m.\u001b[0m\u001b[0m_jreader\u001b[0m\u001b[0;34m.\u001b[0m\u001b[0mload\u001b[0m\u001b[0;34m(\u001b[0m\u001b[0mpath\u001b[0m\u001b[0;34m)\u001b[0m\u001b[0;34m)\u001b[0m\u001b[0;34m\u001b[0m\u001b[0m\n\u001b[0m\u001b[1;32m    150\u001b[0m         \u001b[0;32melif\u001b[0m \u001b[0mpath\u001b[0m \u001b[0;32mis\u001b[0m \u001b[0;32mnot\u001b[0m \u001b[0;32mNone\u001b[0m\u001b[0;34m:\u001b[0m\u001b[0;34m\u001b[0m\u001b[0m\n\u001b[1;32m    151\u001b[0m             \u001b[0;32mif\u001b[0m \u001b[0mtype\u001b[0m\u001b[0;34m(\u001b[0m\u001b[0mpath\u001b[0m\u001b[0;34m)\u001b[0m \u001b[0;34m!=\u001b[0m \u001b[0mlist\u001b[0m\u001b[0;34m:\u001b[0m\u001b[0;34m\u001b[0m\u001b[0m\n",
      "\u001b[0;32m/Users/Emma/anaconda/lib/python3.6/site-packages/py4j/java_gateway.py\u001b[0m in \u001b[0;36m__call__\u001b[0;34m(self, *args)\u001b[0m\n\u001b[1;32m   1131\u001b[0m         \u001b[0manswer\u001b[0m \u001b[0;34m=\u001b[0m \u001b[0mself\u001b[0m\u001b[0;34m.\u001b[0m\u001b[0mgateway_client\u001b[0m\u001b[0;34m.\u001b[0m\u001b[0msend_command\u001b[0m\u001b[0;34m(\u001b[0m\u001b[0mcommand\u001b[0m\u001b[0;34m)\u001b[0m\u001b[0;34m\u001b[0m\u001b[0m\n\u001b[1;32m   1132\u001b[0m         return_value = get_return_value(\n\u001b[0;32m-> 1133\u001b[0;31m             answer, self.gateway_client, self.target_id, self.name)\n\u001b[0m\u001b[1;32m   1134\u001b[0m \u001b[0;34m\u001b[0m\u001b[0m\n\u001b[1;32m   1135\u001b[0m         \u001b[0;32mfor\u001b[0m \u001b[0mtemp_arg\u001b[0m \u001b[0;32min\u001b[0m \u001b[0mtemp_args\u001b[0m\u001b[0;34m:\u001b[0m\u001b[0;34m\u001b[0m\u001b[0m\n",
      "\u001b[0;32m/Users/Emma/anaconda/lib/python3.6/site-packages/pyspark/sql/utils.py\u001b[0m in \u001b[0;36mdeco\u001b[0;34m(*a, **kw)\u001b[0m\n\u001b[1;32m     61\u001b[0m     \u001b[0;32mdef\u001b[0m \u001b[0mdeco\u001b[0m\u001b[0;34m(\u001b[0m\u001b[0;34m*\u001b[0m\u001b[0ma\u001b[0m\u001b[0;34m,\u001b[0m \u001b[0;34m**\u001b[0m\u001b[0mkw\u001b[0m\u001b[0;34m)\u001b[0m\u001b[0;34m:\u001b[0m\u001b[0;34m\u001b[0m\u001b[0m\n\u001b[1;32m     62\u001b[0m         \u001b[0;32mtry\u001b[0m\u001b[0;34m:\u001b[0m\u001b[0;34m\u001b[0m\u001b[0m\n\u001b[0;32m---> 63\u001b[0;31m             \u001b[0;32mreturn\u001b[0m \u001b[0mf\u001b[0m\u001b[0;34m(\u001b[0m\u001b[0;34m*\u001b[0m\u001b[0ma\u001b[0m\u001b[0;34m,\u001b[0m \u001b[0;34m**\u001b[0m\u001b[0mkw\u001b[0m\u001b[0;34m)\u001b[0m\u001b[0;34m\u001b[0m\u001b[0m\n\u001b[0m\u001b[1;32m     64\u001b[0m         \u001b[0;32mexcept\u001b[0m \u001b[0mpy4j\u001b[0m\u001b[0;34m.\u001b[0m\u001b[0mprotocol\u001b[0m\u001b[0;34m.\u001b[0m\u001b[0mPy4JJavaError\u001b[0m \u001b[0;32mas\u001b[0m \u001b[0me\u001b[0m\u001b[0;34m:\u001b[0m\u001b[0;34m\u001b[0m\u001b[0m\n\u001b[1;32m     65\u001b[0m             \u001b[0ms\u001b[0m \u001b[0;34m=\u001b[0m \u001b[0me\u001b[0m\u001b[0;34m.\u001b[0m\u001b[0mjava_exception\u001b[0m\u001b[0;34m.\u001b[0m\u001b[0mtoString\u001b[0m\u001b[0;34m(\u001b[0m\u001b[0;34m)\u001b[0m\u001b[0;34m\u001b[0m\u001b[0m\n",
      "\u001b[0;32m/Users/Emma/anaconda/lib/python3.6/site-packages/py4j/protocol.py\u001b[0m in \u001b[0;36mget_return_value\u001b[0;34m(answer, gateway_client, target_id, name)\u001b[0m\n\u001b[1;32m    317\u001b[0m                 raise Py4JJavaError(\n\u001b[1;32m    318\u001b[0m                     \u001b[0;34m\"An error occurred while calling {0}{1}{2}.\\n\"\u001b[0m\u001b[0;34m.\u001b[0m\u001b[0;34m\u001b[0m\u001b[0m\n\u001b[0;32m--> 319\u001b[0;31m                     format(target_id, \".\", name), value)\n\u001b[0m\u001b[1;32m    320\u001b[0m             \u001b[0;32melse\u001b[0m\u001b[0;34m:\u001b[0m\u001b[0;34m\u001b[0m\u001b[0m\n\u001b[1;32m    321\u001b[0m                 raise Py4JError(\n",
      "\u001b[0;31mPy4JJavaError\u001b[0m: An error occurred while calling o26.load.\n: java.io.IOException: No FileSystem for scheme: s3n\n\tat org.apache.hadoop.fs.FileSystem.getFileSystemClass(FileSystem.java:2660)\n\tat org.apache.hadoop.fs.FileSystem.createFileSystem(FileSystem.java:2667)\n\tat org.apache.hadoop.fs.FileSystem.access$200(FileSystem.java:94)\n\tat org.apache.hadoop.fs.FileSystem$Cache.getInternal(FileSystem.java:2703)\n\tat org.apache.hadoop.fs.FileSystem$Cache.get(FileSystem.java:2685)\n\tat org.apache.hadoop.fs.FileSystem.get(FileSystem.java:373)\n\tat org.apache.hadoop.fs.Path.getFileSystem(Path.java:295)\n\tat org.apache.spark.sql.execution.datasources.DataSource$$anonfun$14.apply(DataSource.scala:372)\n\tat org.apache.spark.sql.execution.datasources.DataSource$$anonfun$14.apply(DataSource.scala:370)\n\tat scala.collection.TraversableLike$$anonfun$flatMap$1.apply(TraversableLike.scala:241)\n\tat scala.collection.TraversableLike$$anonfun$flatMap$1.apply(TraversableLike.scala:241)\n\tat scala.collection.immutable.List.foreach(List.scala:381)\n\tat scala.collection.TraversableLike$class.flatMap(TraversableLike.scala:241)\n\tat scala.collection.immutable.List.flatMap(List.scala:344)\n\tat org.apache.spark.sql.execution.datasources.DataSource.resolveRelation(DataSource.scala:370)\n\tat org.apache.spark.sql.DataFrameReader.load(DataFrameReader.scala:152)\n\tat org.apache.spark.sql.DataFrameReader.load(DataFrameReader.scala:135)\n\tat sun.reflect.NativeMethodAccessorImpl.invoke0(Native Method)\n\tat sun.reflect.NativeMethodAccessorImpl.invoke(NativeMethodAccessorImpl.java:62)\n\tat sun.reflect.DelegatingMethodAccessorImpl.invoke(DelegatingMethodAccessorImpl.java:43)\n\tat java.lang.reflect.Method.invoke(Method.java:498)\n\tat py4j.reflection.MethodInvoker.invoke(MethodInvoker.java:244)\n\tat py4j.reflection.ReflectionEngine.invoke(ReflectionEngine.java:357)\n\tat py4j.Gateway.invoke(Gateway.java:280)\n\tat py4j.commands.AbstractCommand.invokeMethod(AbstractCommand.java:132)\n\tat py4j.commands.CallCommand.execute(CallCommand.java:79)\n\tat py4j.GatewayConnection.run(GatewayConnection.java:214)\n\tat java.lang.Thread.run(Thread.java:745)\n"
     ]
    }
   ],
   "source": [
    "#Read files into pyspark sql dataframes\n",
    "\n",
    "readintime_start=time.time()\n",
    "\n",
    "datafile1=\"s3n://10x-ju-spark-test2/Dataset/Acquisition*.txt\"\n",
    "datafile2=\"s3n://10x-ju-spark-test2/Dataset/Performance*.txt\"\n",
    "\n",
    "acqu=sqlContext.read.format('com.databricks.spark.csv')\\\n",
    ".options(delimiter=\"|\")\\\n",
    ".option('dateFormat', 'MM/yyyy') \\\n",
    ".schema(acquisition_schema) \\\n",
    ".load(datafile1)\n",
    "\n",
    "perf=sqlContext.read.format('com.databricks.spark.csv')\\\n",
    ".options(delimiter=\"|\")\\\n",
    ".option('dateFormat', 'MM/yyyy') \\\n",
    ".schema(performance_schema) \\\n",
    ".load(datafile2)\n",
    "\n",
    "readintime_end=time.time()\n",
    "\n",
    "elapsed=readintime_end-readintime_start\n",
    "\n",
    "print(\"elapsed time for read in is \"+str(elapsed))"
   ]
  },
  {
   "cell_type": "code",
   "execution_count": 17,
   "metadata": {
    "collapsed": false
   },
   "outputs": [
    {
     "name": "stdout",
     "output_type": "stream",
     "text": [
      "number of borrowers: 1,022,411\n",
      "number of payments: 28,602,829\n"
     ]
    }
   ],
   "source": [
    "import locale\n",
    "locale.setlocale(locale.LC_ALL, 'en_US')\n",
    "#count number of rows in each file\n",
    "a=acqu.count()\n",
    "p=perf.count()\n",
    "\n",
    "print(\"number of borrowers: \"+locale.format(\"%d\", a, grouping=True))\n",
    "print(\"number of payments: \"+locale.format(\"%d\", p, grouping=True))"
   ]
  },
  {
   "cell_type": "code",
   "execution_count": 20,
   "metadata": {
    "collapsed": false
   },
   "outputs": [
    {
     "data": {
      "text/plain": [
       "[Row(borrower_credit_score=763),\n",
       " Row(borrower_credit_score=750),\n",
       " Row(borrower_credit_score=686),\n",
       " Row(borrower_credit_score=706),\n",
       " Row(borrower_credit_score=737),\n",
       " Row(borrower_credit_score=793),\n",
       " Row(borrower_credit_score=750),\n",
       " Row(borrower_credit_score=646),\n",
       " Row(borrower_credit_score=676),\n",
       " Row(borrower_credit_score=781)]"
      ]
     },
     "execution_count": 20,
     "metadata": {},
     "output_type": "execute_result"
    }
   ],
   "source": [
    "acqu.select('borrower_credit_score').take(10)"
   ]
  },
  {
   "cell_type": "markdown",
   "metadata": {},
   "source": [
    "## Borrower credit score"
   ]
  },
  {
   "cell_type": "code",
   "execution_count": 22,
   "metadata": {
    "collapsed": false
   },
   "outputs": [
    {
     "data": {
      "text/html": [
       "<div>\n",
       "<table border=\"1\" class=\"dataframe\">\n",
       "  <thead>\n",
       "    <tr style=\"text-align: right;\">\n",
       "      <th></th>\n",
       "      <th>borrower_credit_score</th>\n",
       "      <th>count</th>\n",
       "    </tr>\n",
       "  </thead>\n",
       "  <tbody>\n",
       "    <tr>\n",
       "      <th>0</th>\n",
       "      <td>496.0</td>\n",
       "      <td>11</td>\n",
       "    </tr>\n",
       "    <tr>\n",
       "      <th>1</th>\n",
       "      <td>833.0</td>\n",
       "      <td>10</td>\n",
       "    </tr>\n",
       "    <tr>\n",
       "      <th>2</th>\n",
       "      <td>471.0</td>\n",
       "      <td>3</td>\n",
       "    </tr>\n",
       "    <tr>\n",
       "      <th>3</th>\n",
       "      <td>463.0</td>\n",
       "      <td>4</td>\n",
       "    </tr>\n",
       "    <tr>\n",
       "      <th>4</th>\n",
       "      <td>737.0</td>\n",
       "      <td>6849</td>\n",
       "    </tr>\n",
       "    <tr>\n",
       "      <th>5</th>\n",
       "      <td>623.0</td>\n",
       "      <td>2141</td>\n",
       "    </tr>\n",
       "    <tr>\n",
       "      <th>6</th>\n",
       "      <td>540.0</td>\n",
       "      <td>105</td>\n",
       "    </tr>\n",
       "    <tr>\n",
       "      <th>7</th>\n",
       "      <td>516.0</td>\n",
       "      <td>31</td>\n",
       "    </tr>\n",
       "    <tr>\n",
       "      <th>8</th>\n",
       "      <td>808.0</td>\n",
       "      <td>954</td>\n",
       "    </tr>\n",
       "    <tr>\n",
       "      <th>9</th>\n",
       "      <td>580.0</td>\n",
       "      <td>472</td>\n",
       "    </tr>\n",
       "    <tr>\n",
       "      <th>10</th>\n",
       "      <td>458.0</td>\n",
       "      <td>2</td>\n",
       "    </tr>\n",
       "    <tr>\n",
       "      <th>11</th>\n",
       "      <td>799.0</td>\n",
       "      <td>3205</td>\n",
       "    </tr>\n",
       "    <tr>\n",
       "      <th>12</th>\n",
       "      <td>804.0</td>\n",
       "      <td>1489</td>\n",
       "    </tr>\n",
       "    <tr>\n",
       "      <th>13</th>\n",
       "      <td>588.0</td>\n",
       "      <td>536</td>\n",
       "    </tr>\n",
       "    <tr>\n",
       "      <th>14</th>\n",
       "      <td>481.0</td>\n",
       "      <td>6</td>\n",
       "    </tr>\n",
       "    <tr>\n",
       "      <th>15</th>\n",
       "      <td>472.0</td>\n",
       "      <td>3</td>\n",
       "    </tr>\n",
       "    <tr>\n",
       "      <th>16</th>\n",
       "      <td>513.0</td>\n",
       "      <td>27</td>\n",
       "    </tr>\n",
       "    <tr>\n",
       "      <th>17</th>\n",
       "      <td>673.0</td>\n",
       "      <td>4587</td>\n",
       "    </tr>\n",
       "    <tr>\n",
       "      <th>18</th>\n",
       "      <td>633.0</td>\n",
       "      <td>2641</td>\n",
       "    </tr>\n",
       "    <tr>\n",
       "      <th>19</th>\n",
       "      <td>613.0</td>\n",
       "      <td>1252</td>\n",
       "    </tr>\n",
       "    <tr>\n",
       "      <th>20</th>\n",
       "      <td>593.0</td>\n",
       "      <td>631</td>\n",
       "    </tr>\n",
       "    <tr>\n",
       "      <th>21</th>\n",
       "      <td>597.0</td>\n",
       "      <td>708</td>\n",
       "    </tr>\n",
       "    <tr>\n",
       "      <th>22</th>\n",
       "      <td>375.0</td>\n",
       "      <td>1</td>\n",
       "    </tr>\n",
       "    <tr>\n",
       "      <th>23</th>\n",
       "      <td>744.0</td>\n",
       "      <td>6634</td>\n",
       "    </tr>\n",
       "    <tr>\n",
       "      <th>24</th>\n",
       "      <td>683.0</td>\n",
       "      <td>5023</td>\n",
       "    </tr>\n",
       "    <tr>\n",
       "      <th>25</th>\n",
       "      <td>796.0</td>\n",
       "      <td>3239</td>\n",
       "    </tr>\n",
       "    <tr>\n",
       "      <th>26</th>\n",
       "      <td>642.0</td>\n",
       "      <td>3119</td>\n",
       "    </tr>\n",
       "    <tr>\n",
       "      <th>27</th>\n",
       "      <td>530.0</td>\n",
       "      <td>87</td>\n",
       "    </tr>\n",
       "    <tr>\n",
       "      <th>28</th>\n",
       "      <td>368.0</td>\n",
       "      <td>1</td>\n",
       "    </tr>\n",
       "    <tr>\n",
       "      <th>29</th>\n",
       "      <td>756.0</td>\n",
       "      <td>8242</td>\n",
       "    </tr>\n",
       "  </tbody>\n",
       "</table>\n",
       "</div>"
      ],
      "text/plain": [
       "    borrower_credit_score  count\n",
       "0                   496.0     11\n",
       "1                   833.0     10\n",
       "2                   471.0      3\n",
       "3                   463.0      4\n",
       "4                   737.0   6849\n",
       "5                   623.0   2141\n",
       "6                   540.0    105\n",
       "7                   516.0     31\n",
       "8                   808.0    954\n",
       "9                   580.0    472\n",
       "10                  458.0      2\n",
       "11                  799.0   3205\n",
       "12                  804.0   1489\n",
       "13                  588.0    536\n",
       "14                  481.0      6\n",
       "15                  472.0      3\n",
       "16                  513.0     27\n",
       "17                  673.0   4587\n",
       "18                  633.0   2641\n",
       "19                  613.0   1252\n",
       "20                  593.0    631\n",
       "21                  597.0    708\n",
       "22                  375.0      1\n",
       "23                  744.0   6634\n",
       "24                  683.0   5023\n",
       "25                  796.0   3239\n",
       "26                  642.0   3119\n",
       "27                  530.0     87\n",
       "28                  368.0      1\n",
       "29                  756.0   8242"
      ]
     },
     "execution_count": 22,
     "metadata": {},
     "output_type": "execute_result"
    }
   ],
   "source": [
    "borrower_credit = acqu.groupby('borrower_credit_score').count().toPandas()\n",
    "borrower_credit.head(30)"
   ]
  },
  {
   "cell_type": "code",
   "execution_count": 23,
   "metadata": {
    "collapsed": false,
    "scrolled": true
   },
   "outputs": [
    {
     "data": {
      "text/plain": [
       "<matplotlib.text.Text at 0x7fb5464d33c8>"
      ]
     },
     "execution_count": 23,
     "metadata": {},
     "output_type": "execute_result"
    },
    {
     "data": {
      "image/png": "[encoded data removed]",
      "text/plain": [
       "<matplotlib.figure.Figure at 0x7fb546aff7b8>"
      ]
     },
     "metadata": {},
     "output_type": "display_data"
    }
   ],
   "source": [
    "bc_sort = borrower_credit.sort_values(by='borrower_credit_score')\n",
    "plt.figure()\n",
    "plt.plot(bc_sort['borrower_credit_score'], bc_sort['count'])\n",
    "plt.xlabel('Borrower Credit Score')\n",
    "plt.ylabel('Number of Loans')"
   ]
  },
  {
   "cell_type": "markdown",
   "metadata": {},
   "source": [
    "## Loan aging analysis"
   ]
  },
  {
   "cell_type": "code",
   "execution_count": 24,
   "metadata": {
    "collapsed": true
   },
   "outputs": [],
   "source": [
    "# to get the most recent times for any given loan, we aggregate across loan identifier and accumulate over the maximum\n",
    "# reporting period\n",
    "most_recent_months = perf.groupby(\"loan_identifier\").agg({\"monthly_reporting_period\":\"max\"})\\\n",
    "    .withColumnRenamed(\"max(monthly_reporting_period)\", \"last_monthly_reporting_period\")"
   ]
  },
  {
   "cell_type": "code",
   "execution_count": 25,
   "metadata": {
    "collapsed": true
   },
   "outputs": [],
   "source": [
    "# interestingly, \"left-semi\" join is a join where we execute the join on the given keys, but keep only the left side\n",
    "# of the join if the join succeeds. It turns a join statement into a filter statement.\n",
    "performance_with_recent = perf.join(most_recent_months, \n",
    "                                           how='leftsemi', \n",
    "                                           on=(most_recent_months.loan_identifier == perf.loan_identifier) &\n",
    "                                              (most_recent_months.last_monthly_reporting_period==perf.monthly_reporting_period))"
   ]
  },
  {
   "cell_type": "code",
   "execution_count": 27,
   "metadata": {
    "collapsed": false
   },
   "outputs": [
    {
     "data": {
      "text/html": [
       "<div>\n",
       "<table border=\"1\" class=\"dataframe\">\n",
       "  <thead>\n",
       "    <tr style=\"text-align: right;\">\n",
       "      <th></th>\n",
       "      <th>loan_identifier</th>\n",
       "      <th>monthly_reporting_period</th>\n",
       "      <th>servicer_name</th>\n",
       "      <th>current_interest_rate</th>\n",
       "      <th>current_actual_unpaid_principal_balance</th>\n",
       "      <th>loan_age</th>\n",
       "      <th>remaining_months_to_legal_maturity</th>\n",
       "      <th>adjusted_remaining_months_to_matruity</th>\n",
       "      <th>maturity_date</th>\n",
       "      <th>metropolitan_statistical_area</th>\n",
       "      <th>...</th>\n",
       "      <th>property_preservation_and_repair_costs</th>\n",
       "      <th>asset_recovery_costs</th>\n",
       "      <th>miscellaneous_holding_expenses_and_credits</th>\n",
       "      <th>associated_taxes_for_holding_property</th>\n",
       "      <th>net_sale_proceeds</th>\n",
       "      <th>credit_enhancement_proceeds</th>\n",
       "      <th>repurchase_make_whole_proceeds</th>\n",
       "      <th>other_foreclosure_proceeds</th>\n",
       "      <th>non_interest_bearing_upb</th>\n",
       "      <th>principal_forgiveness_upb</th>\n",
       "    </tr>\n",
       "  </thead>\n",
       "  <tbody>\n",
       "    <tr>\n",
       "      <th>0</th>\n",
       "      <td>100072038496</td>\n",
       "      <td>12/01/2002</td>\n",
       "      <td>None</td>\n",
       "      <td>7.750</td>\n",
       "      <td>92308.44</td>\n",
       "      <td>33</td>\n",
       "      <td>327.0</td>\n",
       "      <td>324.0</td>\n",
       "      <td>03/2030</td>\n",
       "      <td>10740</td>\n",
       "      <td>...</td>\n",
       "      <td>NaN</td>\n",
       "      <td>NaN</td>\n",
       "      <td>NaN</td>\n",
       "      <td>NaN</td>\n",
       "      <td>NaN</td>\n",
       "      <td>NaN</td>\n",
       "      <td>NaN</td>\n",
       "      <td>NaN</td>\n",
       "      <td>NaN</td>\n",
       "      <td>NaN</td>\n",
       "    </tr>\n",
       "    <tr>\n",
       "      <th>1</th>\n",
       "      <td>100423959533</td>\n",
       "      <td>12/01/2000</td>\n",
       "      <td>None</td>\n",
       "      <td>8.250</td>\n",
       "      <td>NaN</td>\n",
       "      <td>3</td>\n",
       "      <td>357.0</td>\n",
       "      <td>357.0</td>\n",
       "      <td>09/2030</td>\n",
       "      <td>33700</td>\n",
       "      <td>...</td>\n",
       "      <td>NaN</td>\n",
       "      <td>NaN</td>\n",
       "      <td>NaN</td>\n",
       "      <td>NaN</td>\n",
       "      <td>NaN</td>\n",
       "      <td>NaN</td>\n",
       "      <td>NaN</td>\n",
       "      <td>NaN</td>\n",
       "      <td>NaN</td>\n",
       "      <td>NaN</td>\n",
       "    </tr>\n",
       "    <tr>\n",
       "      <th>2</th>\n",
       "      <td>100565524708</td>\n",
       "      <td>12/01/2002</td>\n",
       "      <td>None</td>\n",
       "      <td>8.250</td>\n",
       "      <td>238537.31</td>\n",
       "      <td>31</td>\n",
       "      <td>329.0</td>\n",
       "      <td>329.0</td>\n",
       "      <td>05/2030</td>\n",
       "      <td>45300</td>\n",
       "      <td>...</td>\n",
       "      <td>NaN</td>\n",
       "      <td>NaN</td>\n",
       "      <td>NaN</td>\n",
       "      <td>NaN</td>\n",
       "      <td>NaN</td>\n",
       "      <td>NaN</td>\n",
       "      <td>NaN</td>\n",
       "      <td>NaN</td>\n",
       "      <td>NaN</td>\n",
       "      <td>NaN</td>\n",
       "    </tr>\n",
       "    <tr>\n",
       "      <th>3</th>\n",
       "      <td>100706668028</td>\n",
       "      <td>12/01/2001</td>\n",
       "      <td>JPMORGAN CHASE BANK, NA</td>\n",
       "      <td>8.125</td>\n",
       "      <td>193982.87</td>\n",
       "      <td>14</td>\n",
       "      <td>346.0</td>\n",
       "      <td>345.0</td>\n",
       "      <td>10/2030</td>\n",
       "      <td>12580</td>\n",
       "      <td>...</td>\n",
       "      <td>NaN</td>\n",
       "      <td>NaN</td>\n",
       "      <td>NaN</td>\n",
       "      <td>NaN</td>\n",
       "      <td>NaN</td>\n",
       "      <td>NaN</td>\n",
       "      <td>NaN</td>\n",
       "      <td>NaN</td>\n",
       "      <td>NaN</td>\n",
       "      <td>NaN</td>\n",
       "    </tr>\n",
       "    <tr>\n",
       "      <th>4</th>\n",
       "      <td>100925287125</td>\n",
       "      <td>12/01/2003</td>\n",
       "      <td>None</td>\n",
       "      <td>6.250</td>\n",
       "      <td>94881.62</td>\n",
       "      <td>53</td>\n",
       "      <td>307.0</td>\n",
       "      <td>0.0</td>\n",
       "      <td>07/2029</td>\n",
       "      <td>33460</td>\n",
       "      <td>...</td>\n",
       "      <td>NaN</td>\n",
       "      <td>NaN</td>\n",
       "      <td>NaN</td>\n",
       "      <td>NaN</td>\n",
       "      <td>NaN</td>\n",
       "      <td>NaN</td>\n",
       "      <td>NaN</td>\n",
       "      <td>NaN</td>\n",
       "      <td>NaN</td>\n",
       "      <td>NaN</td>\n",
       "    </tr>\n",
       "  </tbody>\n",
       "</table>\n",
       "<p>5 rows × 28 columns</p>\n",
       "</div>"
      ],
      "text/plain": [
       "  loan_identifier monthly_reporting_period            servicer_name  \\\n",
       "0    100072038496               12/01/2002                     None   \n",
       "1    100423959533               12/01/2000                     None   \n",
       "2    100565524708               12/01/2002                     None   \n",
       "3    100706668028               12/01/2001  JPMORGAN CHASE BANK, NA   \n",
       "4    100925287125               12/01/2003                     None   \n",
       "\n",
       "   current_interest_rate  current_actual_unpaid_principal_balance  loan_age  \\\n",
       "0                  7.750                                 92308.44        33   \n",
       "1                  8.250                                      NaN         3   \n",
       "2                  8.250                                238537.31        31   \n",
       "3                  8.125                                193982.87        14   \n",
       "4                  6.250                                 94881.62        53   \n",
       "\n",
       "   remaining_months_to_legal_maturity  adjusted_remaining_months_to_matruity  \\\n",
       "0                               327.0                                  324.0   \n",
       "1                               357.0                                  357.0   \n",
       "2                               329.0                                  329.0   \n",
       "3                               346.0                                  345.0   \n",
       "4                               307.0                                    0.0   \n",
       "\n",
       "  maturity_date metropolitan_statistical_area            ...              \\\n",
       "0       03/2030                         10740            ...               \n",
       "1       09/2030                         33700            ...               \n",
       "2       05/2030                         45300            ...               \n",
       "3       10/2030                         12580            ...               \n",
       "4       07/2029                         33460            ...               \n",
       "\n",
       "  property_preservation_and_repair_costs asset_recovery_costs  \\\n",
       "0                                    NaN                  NaN   \n",
       "1                                    NaN                  NaN   \n",
       "2                                    NaN                  NaN   \n",
       "3                                    NaN                  NaN   \n",
       "4                                    NaN                  NaN   \n",
       "\n",
       "  miscellaneous_holding_expenses_and_credits  \\\n",
       "0                                        NaN   \n",
       "1                                        NaN   \n",
       "2                                        NaN   \n",
       "3                                        NaN   \n",
       "4                                        NaN   \n",
       "\n",
       "  associated_taxes_for_holding_property net_sale_proceeds  \\\n",
       "0                                   NaN               NaN   \n",
       "1                                   NaN               NaN   \n",
       "2                                   NaN               NaN   \n",
       "3                                   NaN               NaN   \n",
       "4                                   NaN               NaN   \n",
       "\n",
       "  credit_enhancement_proceeds repurchase_make_whole_proceeds  \\\n",
       "0                         NaN                            NaN   \n",
       "1                         NaN                            NaN   \n",
       "2                         NaN                            NaN   \n",
       "3                         NaN                            NaN   \n",
       "4                         NaN                            NaN   \n",
       "\n",
       "   other_foreclosure_proceeds  non_interest_bearing_upb  \\\n",
       "0                         NaN                       NaN   \n",
       "1                         NaN                       NaN   \n",
       "2                         NaN                       NaN   \n",
       "3                         NaN                       NaN   \n",
       "4                         NaN                       NaN   \n",
       "\n",
       "   principal_forgiveness_upb  \n",
       "0                        NaN  \n",
       "1                        NaN  \n",
       "2                        NaN  \n",
       "3                        NaN  \n",
       "4                        NaN  \n",
       "\n",
       "[5 rows x 28 columns]"
      ]
     },
     "execution_count": 27,
     "metadata": {},
     "output_type": "execute_result"
    }
   ],
   "source": [
    "performance_with_recent.toPandas().head()"
   ]
  },
  {
   "cell_type": "code",
   "execution_count": null,
   "metadata": {
    "collapsed": true
   },
   "outputs": [],
   "source": [
    "max_ages = performance_with_recent.groupby('loan_age').count().toPandas()\n",
    "\n",
    "sort_mx_age = max_ages.sort_values(by='loan_age')\n",
    "plt.figure()\n",
    "plt.bar(sort_mx_age['loan_age'], sort_mx_age['count'])\n",
    "plt.xlabel('loan age (months)')\n",
    "plt.ylabel('count of loans')\n",
    "plt.title('2014 Q1 loans age profile (n={0})'.format(sort_mx_age['count'].sum()))"
   ]
  },
  {
   "cell_type": "markdown",
   "metadata": {},
   "source": [
    "## Loan demographics by state"
   ]
  },
  {
   "cell_type": "code",
   "execution_count": null,
   "metadata": {
    "collapsed": true
   },
   "outputs": [],
   "source": [
    "state_stats = acqu.groupby('property_state')\\\n",
    "    .agg(F.max(F.col(\"original_unpaid_principal_balance\")).alias(\"max_original_balance\"), \n",
    "         F.avg(F.col(\"original_unpaid_principal_balance\")).alias(\"mean_original_balance\"),\n",
    "         F.min(F.col(\"original_unpaid_principal_balance\")).alias(\"min_original_balance\"),\n",
    "         F.count(F.col(\"original_unpaid_principal_balance\")).alias(\"count_loans\"),\n",
    "         F.max(F.col(\"original_interest_rate\")).alias(\"max_interest_rate\"),\n",
    "         F.avg(F.col(\"original_interest_rate\")).alias(\"mean_interest_rate\"),\n",
    "         F.min(F.col(\"original_interest_rate\")).alias(\"min_interest_rate\")).toPandas()"
   ]
  },
  {
   "cell_type": "code",
   "execution_count": null,
   "metadata": {
    "collapsed": true
   },
   "outputs": [],
   "source": [
    "state_stats.sort_values(by='max_interest_rate', ascending=False).head(15)"
   ]
  },
  {
   "cell_type": "markdown",
   "metadata": {},
   "source": [
    "## Prepare regression data"
   ]
  },
  {
   "cell_type": "code",
   "execution_count": null,
   "metadata": {
    "collapsed": true
   },
   "outputs": [],
   "source": [
    "#create a default flag in the performance data (3-months or more passed due = 1)\n",
    "\n",
    "new_column= F.when((F.col(\"current_loan_delinquency_status\")==\"0\") | (F.col(\"current_loan_delinquency_status\")==\"1\") | (F.col(\"current_loan_delinquency_status\")==\"2\") |(F.col(\"current_loan_delinquency_status\")==\"X\"), 0).otherwise(1)\n",
    "perf_new = perf.withColumn(\"default\",new_column)\n",
    "\n",
    "#select columns we need to do the aggregation\n",
    "\n",
    "df=perf_new.select(\"loan_identifier\",\"default\")\n",
    "\n",
    "#we have multiple default flags for each loan identifier so we now consolidate this by taking the \"max\"\n",
    "\n",
    "df_new = df.groupby(df.loan_identifier).agg(F.max('default')).collect()\n",
    "\n",
    "#read the data back into an RDD\n",
    "\n",
    "data = sc.parallelize(df_new)\n",
    "df1 = sqlContext.createDataFrame(data, ('loan_identifier', 'default'))\n",
    "\n",
    "#merge the default data with the acquisition data\n",
    "\n",
    "joined_df = df1.join(acqu, df1.loan_identifier==acqu.loan_identifier)\n",
    "\n",
    "#select the columns we need for the machine learning analysis\n",
    "\n",
    "select_df = joined_df.select(\"default\",\"original_interest_rate\",\"original_unpaid_principal_balance\",\"original_ltv\",\"number_of_borrowers\",\"dti\",\"borrower_credit_score\")"
   ]
  },
  {
   "cell_type": "code",
   "execution_count": null,
   "metadata": {
    "collapsed": true,
    "scrolled": true
   },
   "outputs": [],
   "source": [
    "#spilt the data into zeros and ones so we can take a sub-samples of the zeros\n",
    "\n",
    "zeros = select_df.where((F.col('default')==0))\n",
    "ones= select_df.where((F.col('default')==1))\n",
    "\n",
    "default_count = ones.count()\n",
    "\n",
    "#create random sub sample\n",
    "\n",
    "zeros_sample = zeros.rdd.takeSample(False, default_count, seed=0)\n",
    "\n",
    "#read the data back into RDD format so they can be merged\n",
    "\n",
    "ones_sample_rdd = ones.rdd\n",
    "zeros_sample_rdd = sc.parallelize(zeros_sample)\n",
    "\n",
    "#merge ones and zeros into a single RDD\n",
    "\n",
    "sample_rdd = zeros_sample_rdd.union(ones_sample_rdd)\n",
    "sample_df = sqlContext.createDataFrame(sample_rdd)\n",
    "sample_df.toPandas().head()"
   ]
  },
  {
   "cell_type": "markdown",
   "metadata": {},
   "source": [
    "## Regression analysis with Spark's MLlib machine learning library "
   ]
  },
  {
   "cell_type": "code",
   "execution_count": null,
   "metadata": {
    "collapsed": true
   },
   "outputs": [],
   "source": [
    "#use \"LabeledPoint\" to prepare the data from the MLlib machine learning algorithms. Labeled point splits the data in \"label\" and \"features\"\n",
    "\n",
    "from pyspark.mllib.regression import LabeledPoint\n",
    "\n",
    "# Load and parse the data\n",
    "def parsePoint(line):\n",
    "    values = [x for x in line]\n",
    "    return LabeledPoint(values[0], values[1:])\n",
    "\n",
    "parsedData = sample_rdd.map(parsePoint)\n"
   ]
  },
  {
   "cell_type": "code",
   "execution_count": null,
   "metadata": {
    "collapsed": true
   },
   "outputs": [],
   "source": [
    "#Apply naive Bayes\n",
    "\n",
    "from pyspark.mllib.classification import NaiveBayes  \n",
    "\n",
    "(trainingData, testData) = parsedData.randomSplit([0.7, 0.3])\n",
    "\n",
    "\n",
    "val model = NaiveBayes.train(trainingData, lambda = 1.0, modelType = \"multinomial\")\n",
    "\n",
    "val predictionAndLabel = test.map(p => (model.predict(p.features), p.label))\n",
    "val accuracy = 1.0 * predictionAndLabel.filter(x => x._1 == x._2).count() / testData.count()\n",
    "\n",
    "// Save and load model\n",
    "model.save(sc, \"target/tmp/myNaiveBayesModel\")\n",
    "val sameModel = NaiveBayesModel.load(sc, \"target/tmp/myNaiveBayesModel\")\n",
    "\n"
   ]
  },
  {
   "cell_type": "code",
   "execution_count": null,
   "metadata": {
    "collapsed": true
   },
   "outputs": [],
   "source": [
    "# Apply RandomForest model and generate predictions (binary classification and regression probabilities)\n",
    "\n",
    "from pyspark.mllib.tree import RandomForest, RandomForestModel,GradientBoostedTrees\n",
    "from pyspark.mllib.util import MLUtils\n",
    "\n",
    "\n",
    "(trainingData, testData) = parsedData.randomSplit([0.7, 0.3])\n",
    "\n",
    "model_g = GradientBoostedTrees.trainRegressor(trainingData, {}, numIterations=10)\n",
    "\n",
    "model_c = RandomForest.trainClassifier(trainingData, numClasses=2, categoricalFeaturesInfo={},\n",
    "                                     numTrees=3, featureSubsetStrategy=\"auto\",\n",
    "                                     impurity='gini', maxDepth=4, maxBins=32)\n",
    "\n",
    "model_r = RandomForest.trainRegressor(trainingData, categoricalFeaturesInfo={},\n",
    "                                     numTrees=3, featureSubsetStrategy=\"auto\",\n",
    "                                     impurity='variance', maxDepth=4, maxBins=32)\n",
    "\n",
    "labelsAndPredictions_l = parsedData.map(lambda p: (p.label, model.predict(p.features)))\n",
    "\n",
    "predictions_g = model_g.predict(testData.map(lambda x: x.features))\n",
    "labelsAndPredictions_g = testData.map(lambda lp: lp.label).zip(predictions_g)\n",
    "\n",
    "predictions_c = model_c.predict(testData.map(lambda x: x.features))\n",
    "labelsAndPredictions_c = testData.map(lambda lp: lp.label).zip(predictions_c)\n",
    "\n",
    "predictions_r = model_r.predict(testData.map(lambda x: x.features))\n",
    "labelsAndPredictions_r = testData.map(lambda lp: lp.label).zip(predictions_r)\n",
    "\n",
    "print('Learned classification gradient boosted tree:')\n",
    "print(model_g.toDebugString())\n",
    "\n",
    "print('Learned classification random forest model:')\n",
    "print(model_c.toDebugString())\n",
    "\n",
    "print('Learned regression random forest model:')\n",
    "print(model_r.toDebugString())"
   ]
  },
  {
   "cell_type": "code",
   "execution_count": null,
   "metadata": {
    "collapsed": true
   },
   "outputs": [],
   "source": [
    "#prepare data for gini plot\n",
    "import numpy as np\n",
    "\n",
    "results_sorted_r=labelsAndPredictions_r.takeOrdered(labelsAndPredictions_r.count(),key = lambda x: -x[1])\n",
    "gini_df_r = sqlContext.createDataFrame(results_sorted_r,(\"actual\",\"prediction\"))\n",
    "default_temp_r= np.array([i.actual for i in gini_df_r.select('actual').collect()])\n",
    "\n",
    "results_sorted_g=labelsAndPredictions_g.takeOrdered(labelsAndPredictions_g.count(),key = lambda x: -x[1])\n",
    "gini_df_g = sqlContext.createDataFrame(results_sorted_g,(\"actual\",\"prediction\"))\n",
    "default_temp_g= np.array([i.actual for i in gini_df_g.select('actual').collect()])\n",
    "\n",
    "y1=default_temp_r.cumsum()\n",
    "y2=default_temp_g.cumsum()\n",
    "\n",
    "x=(np.array(range(len(y1)))+1)/len(y1)\n",
    "\n",
    "y1=y1/y1[-1]\n",
    "y2=y2/y2[-1]\n"
   ]
  },
  {
   "cell_type": "code",
   "execution_count": null,
   "metadata": {
    "collapsed": true
   },
   "outputs": [],
   "source": [
    "# red dashes, blue squares and green triangles\n",
    "plt.plot(x, y1, 'r--',label=\"random forest\")\n",
    "plt.plot(x, y2, 'g--',label=\"gradient boosted tree\")\n",
    "plt.plot(x,x,'b-',label=\"random model\")\n",
    "plt.xlabel(\"percent total\")\n",
    "plt.ylabel(\"percent bad\")\n",
    "\n",
    "\n",
    "legend = plt.legend(loc='lower right', shadow=True)\n",
    "\n",
    "plt.show()"
   ]
  },
  {
   "cell_type": "code",
   "execution_count": null,
   "metadata": {
    "collapsed": true
   },
   "outputs": [],
   "source": [
    "results=sqlContext.createDataFrame(labelsAndPredictions_c,(\"actual\",\"prediction\")).toPandas()\n",
    "results"
   ]
  },
  {
   "cell_type": "code",
   "execution_count": null,
   "metadata": {
    "collapsed": true
   },
   "outputs": [],
   "source": [
    "\n",
    "def real_time_decision(interest_rate,loan_size,loan_to_value,number_of_borrowers,debt_to_income,borrower_credit_score):\n",
    "    \n",
    "    start1 = time.time()\n",
    "    default=model_c.predict([interest_rate,loan_size,loan_to_value,number_of_borrowers,debt_to_income,borrower_credit_score])\n",
    "    \n",
    "    if default==0:\n",
    "        \n",
    "        answer=\"Loan Approved\"\n",
    "        \n",
    "    else:\n",
    "        \n",
    "        answer=\"Loan Declined\"\n",
    "    \n",
    "    end1 = time.time()\n",
    "    \n",
    "    start2 = time.time()\n",
    "    \n",
    "    pd = model_r.predict([interest_rate,loan_size,loan_to_value,number_of_borrowers,debt_to_income,borrower_credit_score])*default_count*2/a\n",
    "    pd_format = '{percent:.2%}'.format(percent=pd)\n",
    "    \n",
    "    end2 = time.time()\n",
    "    \n",
    "    elapsed_time1 = round(end1-start1,3)\n",
    "    elapsed_time2 = round(end2-start2,3)\n",
    "    \n",
    "    return answer + \" in \" + str(elapsed_time1) +\" seconds\" + \" ;probability of default = \" + pd_format + \" calculated in \"+ str(elapsed_time2) +\" seconds\""
   ]
  },
  {
   "cell_type": "markdown",
   "metadata": {},
   "source": [
    "## Real-time decisioning"
   ]
  },
  {
   "cell_type": "code",
   "execution_count": null,
   "metadata": {
    "collapsed": true
   },
   "outputs": [],
   "source": [
    "\n",
    "debt_to_income = 10\n",
    "borrower_credit_score =900\n",
    "interest_rate =8.5\n",
    "loan_size = 100000\n",
    "loan_to_value = 75\n",
    "number_of_borrowers = 2\n",
    "\n",
    "print(real_time_decision(interest_rate,loan_size,loan_to_value,number_of_borrowers,debt_to_income,borrower_credit_score))"
   ]
  },
  {
   "cell_type": "code",
   "execution_count": null,
   "metadata": {
    "collapsed": true
   },
   "outputs": [],
   "source": []
  }
 ],
 "metadata": {
  "kernelspec": {
   "display_name": "Python 3",
   "language": "python",
   "name": "python3"
  },
  "language_info": {
   "codemirror_mode": {
    "name": "ipython",
    "version": 3
   },
   "file_extension": ".py",
   "mimetype": "text/x-python",
   "name": "python",
   "nbconvert_exporter": "python",
   "pygments_lexer": "ipython3",
   "version": "3.6.0"
  }
 },
 "nbformat": 4,
 "nbformat_minor": 2
}
